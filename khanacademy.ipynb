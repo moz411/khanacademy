{
 "cells": [
  {
   "cell_type": "code",
   "execution_count": 8,
   "metadata": {
    "button": false,
    "collapsed": false,
    "deletable": true,
    "new_sheet": false,
    "run_control": {
     "read_only": false
    }
   },
   "outputs": [
    {
     "name": "stdout",
     "output_type": "stream",
     "text": [
      "Exception reporting mode: Plain\n",
      "Doctest mode is: ON\n"
     ]
    }
   ],
   "source": [
    "from sympy import *\n",
    "from sympy.abc import x\n",
    "f = symbols('f', cls=Function)\n",
    "init_printing()\n",
    "%doctest_mode"
   ]
  },
  {
   "cell_type": "code",
   "execution_count": 3,
   "metadata": {
    "button": false,
    "collapsed": false,
    "deletable": true,
    "new_sheet": false,
    "run_control": {
     "read_only": false
    }
   },
   "outputs": [
    {
     "data": {
      "text/latex": [
       "$$-26$$"
      ],
      "text/plain": [
       "-26"
      ]
     },
     "execution_count": 3,
     "metadata": {},
     "output_type": "execute_result"
    }
   ],
   "source": [
    "rsolve(Eq(f(x+1),f(x)-16), f(x), { f(1):6 }).subs(x,3)"
   ]
  },
  {
   "cell_type": "code",
   "execution_count": 4,
   "metadata": {
    "button": false,
    "collapsed": false,
    "deletable": true,
    "new_sheet": false,
    "run_control": {
     "read_only": false
    }
   },
   "outputs": [
    {
     "data": {
      "text/latex": [
       "$$f{\\left (9 \\right )} = -24$$"
      ],
      "text/plain": [
       "f(9) = -24"
      ]
     },
     "execution_count": 4,
     "metadata": {},
     "output_type": "execute_result"
    }
   ],
   "source": [
    "serie = Eq(f(x),-8-2*(x-1))\n",
    "serie.subs(x,9)"
   ]
  },
  {
   "cell_type": "code",
   "execution_count": 5,
   "metadata": {
    "button": false,
    "collapsed": false,
    "deletable": true,
    "new_sheet": false,
    "run_control": {
     "read_only": false
    }
   },
   "outputs": [
    {
     "data": {
      "text/latex": [
       "$$f{\\left (6 \\right )} = -22$$"
      ],
      "text/plain": [
       "f(6) = -22"
      ]
     },
     "execution_count": 5,
     "metadata": {},
     "output_type": "execute_result"
    }
   ],
   "source": [
    "serie = Eq(f(x),8-6*(x-1))\n",
    "serie.subs(x,6)"
   ]
  },
  {
   "cell_type": "code",
   "execution_count": 6,
   "metadata": {
    "button": false,
    "collapsed": false,
    "deletable": true,
    "new_sheet": false,
    "run_control": {
     "read_only": false
    }
   },
   "outputs": [
    {
     "data": {
      "text/latex": [
       "$$-10$$"
      ],
      "text/plain": [
       "-10"
      ]
     },
     "execution_count": 6,
     "metadata": {},
     "output_type": "execute_result"
    }
   ],
   "source": [
    "serie = Eq(f(x+1),f(x)+10)\n",
    "rsolve(serie, f(x), {f(1):-20}).subs(x,2)"
   ]
  },
  {
   "cell_type": "code",
   "execution_count": 7,
   "metadata": {
    "button": false,
    "collapsed": false,
    "deletable": true,
    "new_sheet": false,
    "run_control": {
     "read_only": false
    }
   },
   "outputs": [
    {
     "data": {
      "text/latex": [
       "$$76$$"
      ],
      "text/plain": [
       "76"
      ]
     },
     "execution_count": 7,
     "metadata": {},
     "output_type": "execute_result"
    }
   ],
   "source": [
    "(-5+9*(x-1)).subs(x,10)"
   ]
  },
  {
   "cell_type": "code",
   "execution_count": 10,
   "metadata": {
    "button": false,
    "collapsed": true,
    "deletable": true,
    "new_sheet": false,
    "run_control": {
     "read_only": false
    }
   },
   "outputs": [],
   "source": [
    ">>> from sklearn import datasets\n",
    ">>> iris = datasets.load_iris()\n",
    ">>> digits = datasets.load_digits()"
   ]
  },
  {
   "cell_type": "code",
   "execution_count": null,
   "metadata": {
    "button": false,
    "collapsed": true,
    "deletable": true,
    "new_sheet": false,
    "run_control": {
     "read_only": false
    }
   },
   "outputs": [],
   "source": [
    "#j=0;r={};r[0]=formule\n",
    "#while True:\n",
    "#    j+=1\n",
    "#    r[j]=list(r[j-1][i+1]-r[j-1][i] for i in range(len(r[j-1])-1))\n",
    "#    # exit if all terms are equal, also true if one term left\n",
    "#    if(list(map(lambda t: t==r[j][0],r[j])).count(True)==len(r[j])): break"
   ]
  },
  {
   "cell_type": "code",
   "execution_count": null,
   "metadata": {
    "button": false,
    "collapsed": true,
    "deletable": true,
    "new_sheet": false,
    "run_control": {
     "read_only": false
    }
   },
   "outputs": [],
   "source": [
    "    if not done:\n",
    "        try:\n",
    "            formule=formule.replace(',','.').split('=')\n",
    "            if re.search('n\\+1',formule[0]): # f(n+1)=f(n)+9; f(1) formule de récurrence\n",
    "                print('formule de récurrence')\n",
    "                raison=int(re.search('((?:[-+])\\d+)',formule[1]).group(1))\n",
    "                formule=Eq(f(n+1),sympify(\"f(n)+{0}\".format(raison)),evaluate=False)\n",
    "                q = input(\"Entrez le premier terme: \")\n",
    "                form = Eq(f(n),rsolve(formule, f(n), { f(1):int(q) }))\n",
    "            elif re.search('n\\-1',formule[1]): # f(n)=A+B(n-1)  formule explicite\n",
    "                print('formule explicite')\n",
    "                raison=int(re.search('(\\d)(?:[^()])',formule[1]).group(1))\n",
    "                print(raison)\n",
    "                coeff=int(re.search('((?:[+-])\\d+)[\"\\(|\\)\"]',formule[1]).group(1))\n",
    "                print(coeff)\n",
    "                formule=Eq(f(n),raison+coeff*(n-1),evaluate=False)\n",
    "                print(formule)\n",
    "                q = input(\"Entrez le premier terme: \")\n",
    "                form = formule\n",
    "                print(form)\n",
    "        except Exception as e:\n",
    "            print(e)"
   ]
  },
  {
   "cell_type": "code",
   "execution_count": 4,
   "metadata": {
    "button": false,
    "collapsed": false,
    "deletable": true,
    "new_sheet": false,
    "run_control": {
     "read_only": false
    }
   },
   "outputs": [
    {
     "data": {
      "text/plain": [
       "40400"
      ]
     },
     "execution_count": 4,
     "metadata": {},
     "output_type": "execute_result"
    }
   ],
   "source": [
    "sum(i for i in range(3,402,2))"
   ]
  },
  {
   "cell_type": "markdown",
   "metadata": {
    "button": false,
    "deletable": true,
    "new_sheet": false,
    "run_control": {
     "read_only": false
    }
   },
   "source": [
    "# Somme des termes\n",
    "sum(range(-3,-5*490-3,-5))\n",
    "Sum(9*n-3219,(n,1,425)).doit()\n",
    "\n",
    "La somme  des n premiers termes d'une suite géométrique est égale à \n",
    "Somme(n) = f(1) * (1-raison**n)/(1 - raison)"
   ]
  },
  {
   "cell_type": "code",
   "execution_count": null,
   "metadata": {
    "button": false,
    "collapsed": true,
    "deletable": true,
    "new_sheet": false,
    "run_control": {
     "read_only": false
    }
   },
   "outputs": [],
   "source": []
  }
 ],
 "metadata": {
  "kernelspec": {
   "display_name": "Python 3",
   "language": "python",
   "name": "python3"
  },
  "language_info": {
   "codemirror_mode": {
    "name": "ipython",
    "version": 3
   },
   "file_extension": ".py",
   "mimetype": "text/x-python",
   "name": "python",
   "nbconvert_exporter": "python",
   "pygments_lexer": "ipython3",
   "version": "3.5.0"
  }
 },
 "nbformat": 4,
 "nbformat_minor": 1
}
